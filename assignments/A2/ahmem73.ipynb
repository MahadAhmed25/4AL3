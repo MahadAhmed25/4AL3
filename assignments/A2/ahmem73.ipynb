{
 "cells": [
  {
   "cell_type": "markdown",
   "id": "7cbfbc26",
   "metadata": {},
   "source": [
    "# Assignment 2 \n",
    "## Solar Flare Prediction using SVM"
   ]
  },
  {
   "cell_type": "code",
   "execution_count": 1,
   "id": "3e16db02",
   "metadata": {},
   "outputs": [],
   "source": [
    "import os\n",
    "import sys\n",
    "import numpy as np\n",
    "import pandas as pd\n",
    "import matplotlib.pyplot as plt\n",
    "import seaborn\n",
    "import sklearn"
   ]
  },
  {
   "cell_type": "markdown",
   "id": "670ea8ec",
   "metadata": {},
   "source": [
    "Preprocess the data to prepare it for the mode\n",
    "- Normalizing the features\n",
    "- Removing missing values, if any\n",
    "- Assigning appropriate labels to positive and negative observations"
   ]
  },
  {
   "cell_type": "code",
   "execution_count": 3,
   "id": "1ae5760f",
   "metadata": {},
   "outputs": [],
   "source": [
    "from sklearn.preprocessing import StandardScaler\n",
    "\n",
    "def preprocess_data(X):\n",
    "    \"\"\"\n",
    "    Preprocess the data by removing missing values and normalizing features.\n",
    "    \n",
    "    Parameters:\n",
    "    X (numpy.ndarray): Input feature array.\n",
    "    \n",
    "    Returns:\n",
    "    X_scaled (numpy.ndarray): Preprocessed feature array.\n",
    "    \"\"\"\n",
    "\n",
    "    # Remove rows with missing values\n",
    "    X_clean = X[~np.isnan(X).any(axis=1)]\n",
    "\n",
    "    # Normalize \n",
    "    scaler = StandardScaler()\n",
    "    X_scaled = scaler.fit_transform(X_clean)\n",
    "\n",
    "    return X_scaled\n"
   ]
  },
  {
   "cell_type": "markdown",
   "id": "ea0b3683",
   "metadata": {},
   "source": [
    "Function that assigns positive and negative labels"
   ]
  },
  {
   "cell_type": "code",
   "execution_count": 4,
   "id": "77e0ef89",
   "metadata": {},
   "outputs": [],
   "source": [
    "def create_labels(n_pos, n_neg):\n",
    "    \"\"\"\n",
    "    Create labels for positive and negative observations.\n",
    "\n",
    "    Parameters:\n",
    "    n_pos (int): Number of positive observations.\n",
    "    n_neg (int): Number of negative observations.\n",
    "\n",
    "    Returns:\n",
    "    y (numpy.ndarray): Array of labels (1 for positive, 0 for negative).\n",
    "    \"\"\"\n",
    "\n",
    "    y = np.concatenate(\n",
    "        (np.ones(n_pos), np.zeros(n_neg))\n",
    "    )\n",
    "    return y"
   ]
  },
  {
   "cell_type": "markdown",
   "id": "f9ed8f59",
   "metadata": {},
   "source": [
    "Now, lets build a function that will create an input data array by concatenating all features into a single 2D array. this function will allow for the input for any combination of feature sets to create the input data array. \n",
    "\n",
    "For example (FS-I, FS-II) will create the input data array with these 2 feature sets concatenated."
   ]
  },
  {
   "cell_type": "markdown",
   "id": "db593be2",
   "metadata": {},
   "source": [
    "First I will create an enum to represent the feature set. and a dataset key-val pair to get the correct data from the correct dataset"
   ]
  },
  {
   "cell_type": "code",
   "execution_count": 5,
   "id": "6d256592",
   "metadata": {},
   "outputs": [],
   "source": [
    "from enum import Enum, auto\n",
    "\n",
    "class FeatureSet(Enum):\n",
    "    FS_I = auto()   # Main features (first 18 columns of X_time)\n",
    "    FS_II = auto()  # Time-change features (columns 19-90 of X_time)\n",
    "    FS_III = auto() # Historical features (X_hist)\n",
    "    FS_IV = auto()  # Max-Min features (X_maxmin)\n",
    "\n",
    "DATA_DIRS = {\n",
    "    \"2020\": \"data-2020-24\",\n",
    "    \"2010\": \"data-2010-15\"\n",
    "}"
   ]
  },
  {
   "cell_type": "markdown",
   "id": "04a206dd",
   "metadata": {},
   "source": [
    "Create the function to concatenate inputted feature set:"
   ]
  },
  {
   "cell_type": "code",
   "execution_count": 7,
   "id": "c24eac32",
   "metadata": {},
   "outputs": [],
   "source": [
    "def build_input_data(\n",
    "    selected_sets: list[FeatureSet],\n",
    "    dataset_key: str = \"2020\" \n",
    "):\n",
    "    \"\"\"\n",
    "    Build input data by loading and combining selected feature sets.\n",
    "\n",
    "    Parameters:\n",
    "    selected_sets (list[FeatureSet]): List of feature sets to include.\n",
    "    dataset_key (str): Key to select dataset directory.\n",
    "\n",
    "    Returns:\n",
    "    X (numpy.ndarray): Combined feature array.\n",
    "    y (numpy.ndarray): Array of labels.\n",
    "    \"\"\"\n",
    "    base = DATA_DIRS[dataset_key]\n",
    "\n",
    "    if FeatureSet.FS_I in selected_sets or FeatureSet.FS_II in selected_sets:\n",
    "        # --- load time (FS-I + FS-II) ---\n",
    "        X_pos_time = np.load(os.path.join(base, \"pos_features_main_timechange.npy\"))\n",
    "        X_neg_time = np.load(os.path.join(base, \"neg_features_main_timechange.npy\"))\n",
    "        FS_I_pos,  FS_I_neg  = X_pos_time[:, :18],  X_neg_time[:, :18]\n",
    "        FS_II_pos, FS_II_neg = X_pos_time[:, 18:],  X_neg_time[:, 18:]\n",
    "\n",
    "    if FeatureSet.FS_III in selected_sets:\n",
    "        # --- load hist (FS-III) ---\n",
    "        X_pos_hist = np.load(os.path.join(base, \"pos_features_historical.npy\"))\n",
    "        X_neg_hist = np.load(os.path.join(base, \"neg_features_historical.npy\"))\n",
    "\n",
    "    if FeatureSet.FS_IV in selected_sets:\n",
    "        # --- load maxmin (FS-IV) ---\n",
    "        X_pos_maxmin = np.load(os.path.join(base, \"pos_features_maxmin.npy\"))\n",
    "        X_neg_maxmin = np.load(os.path.join(base, \"neg_features_maxmin.npy\"))\n",
    "\n",
    "    y_pos_meta = np.load(os.path.join(base, \"pos_class.npy\"), allow_pickle=True)\n",
    "    y_neg_meta = np.load(os.path.join(base, \"neg_class.npy\"), allow_pickle=True)\n",
    "    n_pos, n_neg = len(y_pos_meta), len(y_neg_meta)\n",
    "\n",
    "\n",
    "    # Collect selected feature sets\n",
    "    parts_pos, parts_neg = [], []\n",
    "    for fs in selected_sets:\n",
    "        if fs == FeatureSet.FS_I:\n",
    "            parts_pos.append(FS_I_pos)\n",
    "            parts_neg.append(FS_I_neg)\n",
    "        elif fs == FeatureSet.FS_II:\n",
    "            parts_pos.append(FS_II_pos)\n",
    "            parts_neg.append(FS_II_neg)\n",
    "        elif fs == FeatureSet.FS_III:\n",
    "            parts_pos.append(X_pos_hist)\n",
    "            parts_neg.append(X_neg_hist)\n",
    "        elif fs == FeatureSet.FS_IV:\n",
    "            parts_pos.append(X_pos_maxmin)\n",
    "            parts_neg.append(X_neg_maxmin)\n",
    "\n",
    "    # Combine positive + negative samples\n",
    "    X_pos = np.hstack(parts_pos)\n",
    "    X_neg = np.hstack(parts_neg)\n",
    "    X = np.vstack([X_pos, X_neg])\n",
    "\n",
    "    # Preprocess data\n",
    "    X = preprocess_data(X)\n",
    "\n",
    "    # Binary labels\n",
    "    y = create_labels(n_pos, n_neg)\n",
    "\n",
    "    print(f\"[{dataset_key}] Using sets: {[fs.name for fs in selected_sets]}\")\n",
    "    print(f\"  Combined shape: {X.shape} (features={X.shape[1]})\")\n",
    "    print(f\"  Labels: {len(y)} total ({n_pos} pos, {n_neg} neg)\")\n",
    "\n",
    "    return X, y\n"
   ]
  },
  {
   "cell_type": "markdown",
   "id": "e906a357",
   "metadata": {},
   "source": [
    "Next I will create the function that performs classification using scikit-learns SVC. the inputs will be the input data array X, the label array y, and hyperparameters C, gamma and the kernel"
   ]
  },
  {
   "cell_type": "code",
   "execution_count": 11,
   "id": "0493db08",
   "metadata": {},
   "outputs": [],
   "source": [
    "from sklearn.svm import SVC\n",
    "\n",
    "def train_svm_model(\n",
    "        X_train: np.ndarray,\n",
    "        y_train: np.ndarray,\n",
    "        C: float = 1.0,\n",
    "        gamma: str | float = 'scale',\n",
    "        kernel: str = \"rbf\",\n",
    "):\n",
    "    \n",
    "    model = SVC(C=C, gamma=gamma, kernel=kernel)\n",
    "    model.fit(X_train,y_train)\n",
    "    return model"
   ]
  },
  {
   "cell_type": "markdown",
   "id": "dc0931b4",
   "metadata": {},
   "source": [
    "Next create a function that will evalauate the trained model on any given X_test and y_test set."
   ]
  },
  {
   "cell_type": "code",
   "execution_count": 12,
   "id": "91ccf679",
   "metadata": {},
   "outputs": [],
   "source": [
    "from sklearn.metrics import confusion_matrix, accuracy_score, precision_recall_fscore_support\n",
    "\n",
    "def evaluate_model(\n",
    "        model: SVC,\n",
    "        X_test: np.ndarray,\n",
    "        y_test: np.ndarray,\n",
    "):\n",
    "    \n",
    "    y_pred = model.predict(X_test)\n",
    "    cm = confusion_matrix(y_test, y_pred, labels=[0,1])\n",
    "    tn, fp, fn, tp = cm.ravel()\n",
    "\n",
    "    acc = accuracy_score(y_test, y_pred)\n",
    "    prec, rec, f1, _ = precision_recall_fscore_support(y_test, y_pred, average='binary')\n",
    "    tpr =  tp / (tp + fn) \n",
    "    fpr = fp / (fp + tn)\n",
    "    tss = tpr - fpr\n",
    "\n",
    "    metrics = {\n",
    "        \"accuracy\": acc,\n",
    "        \"precision\": prec,\n",
    "        \"recall\": rec,\n",
    "        \"f1_score\": f1,\n",
    "        \"tss\": tss,\n",
    "        \"confusion_matrix\": cm\n",
    "    }\n",
    "\n",
    "    return metrics"
   ]
  },
  {
   "cell_type": "code",
   "execution_count": 25,
   "id": "642b0ffd",
   "metadata": {},
   "outputs": [
    {
     "name": "stdout",
     "output_type": "stream",
     "text": [
      "[2020] Using sets: ['FS_I']\n",
      "  Combined shape: (132, 18) (features=18)\n",
      "  Labels: 132 total (66 pos, 66 neg)\n",
      "\n",
      "=== Mean ± Std across 5 folds ===\n",
      "Accuracy  : 0.7809 ± 0.0710\n",
      "Precision : 0.8096 ± 0.1181\n",
      "Recall    : 0.7736 ± 0.1264\n",
      "F1_score  : 0.7781 ± 0.0658\n",
      "Tss       : 0.5582 ± 0.1420\n"
     ]
    },
    {
     "data": {
      "image/png": "[encoded data removed]",
      "text/plain": [
       "<Figure size 600x500 with 2 Axes>"
      ]
     },
     "metadata": {},
     "output_type": "display_data"
    }
   ],
   "source": [
    "from sklearn.model_selection import StratifiedKFold\n",
    "import matplotlib.pyplot as plt\n",
    "import seaborn as sns\n",
    "\n",
    "X, y = build_input_data([FeatureSet.FS_I], \"2020\")\n",
    "sfk = StratifiedKFold(n_splits=5, shuffle=True)\n",
    "\n",
    "metrics_list = []\n",
    "for train_idx, test_idx in sfk.split(X,y):\n",
    "    X_train, X_test = X[train_idx], X[test_idx]\n",
    "    y_train, y_test = y[train_idx], y[test_idx]\n",
    "\n",
    "    model = train_svm_model(X_train, y_train, C=2.0, gamma='scale', kernel='rbf')\n",
    "    metrics = evaluate_model(model, X_test, y_test)\n",
    "    metrics_list.append(metrics)\n",
    "\n",
    "keys = [\"accuracy\", \"precision\", \"recall\", \"f1_score\", \"tss\"]\n",
    "mean_metrics = {k: np.mean([m[k] for m in metrics_list]) for k in keys}\n",
    "std_metrics  = {k: np.std([m[k] for m in metrics_list])  for k in keys}\n",
    "print(\"\\n=== Mean ± Std across 5 folds ===\")\n",
    "for k in keys:\n",
    "    print(f\"{k.capitalize():<10}: {mean_metrics[k]:.4f} ± {std_metrics[k]:.4f}\")\n",
    "\n",
    "# Add confusion matrix np arrays together to get overall confusion matrix\n",
    "overall_cm = np.zeros((2,2), dtype=int)\n",
    "for m in metrics_list:\n",
    "    overall_cm += m[\"confusion_matrix\"]\n",
    "\n",
    "# Plot overall confusion matrix\n",
    "plt.figure(figsize=(6,5))\n",
    "sns.heatmap(overall_cm, annot=True, fmt='d', cmap='Blues', xticklabels=['Neg','Pos'], yticklabels=['Neg','Pos'])\n",
    "plt.xlabel('Predicted Label')\n",
    "plt.ylabel('True Label')\n",
    "plt.title('Overall Confusion Matrix')\n",
    "plt.show()\n",
    "\n"
   ]
  }
 ],
 "metadata": {
  "kernelspec": {
   "display_name": "venv",
   "language": "python",
   "name": "python3"
  },
  "language_info": {
   "codemirror_mode": {
    "name": "ipython",
    "version": 3
   },
   "file_extension": ".py",
   "mimetype": "text/x-python",
   "name": "python",
   "nbconvert_exporter": "python",
   "pygments_lexer": "ipython3",
   "version": "3.13.5"
  }
 },
 "nbformat": 4,
 "nbformat_minor": 5
}
