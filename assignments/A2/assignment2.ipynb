{
 "cells": [
  {
   "cell_type": "markdown",
   "id": "6f426aad",
   "metadata": {},
   "source": [
    "<span style=\"color:red; font-size:16px; font-weight:bold\">Instruction:</span><br>\n",
    "Students must write their solutions exclusively in the sections marked with:<br>\n",
    "<span style=\"color:red; font-size:15px; font-weight:bold\"># CODE HERE !<br><br>\n",
    "###########\n",
    "</span>"
   ]
  },
  {
   "cell_type": "code",
   "execution_count": 2,
   "id": "9eeb503d",
   "metadata": {},
   "outputs": [],
   "source": [
    "import os\n",
    "import sys\n",
    "import numpy as np\n",
    "import pandas as pd\n",
    "import matplotlib.pyplot as plt\n",
    "import seaborn\n",
    "import sklearn"
   ]
  },
  {
   "cell_type": "code",
   "execution_count": null,
   "id": "6a4c0087",
   "metadata": {},
   "outputs": [],
   "source": [
    "# For helper functions only\n",
    "# Write your helper functions here (if any)\n",
    "# CODE HERE !\n",
    "\n",
    "###########"
   ]
  },
  {
   "cell_type": "markdown",
   "id": "096485f1",
   "metadata": {},
   "source": [
    "### ────────────────────────────────────────────────────────────────\n",
    "### <span style=\"color:blue; font-size:18px; font-weight:bold\">Initialization Function</span>\n",
    "###### <span style=\"color:red; font-size:16px\">**Points:** ___ / 1</span>\n",
    "###### <span style=\"color:green; font-size:16px\">**Comments:**</span>"
   ]
  },
  {
   "cell_type": "markdown",
   "id": "ad914a65",
   "metadata": {},
   "source": [
    "### ────────────────────────────────────────────────────────────────\n",
    "### <span style=\"color:blue; font-size:18px; font-weight:bold\">Preprocess Function</span>\n",
    "###### <span style=\"color:red; font-size:16px\">**Points:** ___ / 3</span>\n",
    "###### <span style=\"color:green; font-size:16px\">**Comments:**</span>"
   ]
  },
  {
   "cell_type": "markdown",
   "id": "c57b59c5",
   "metadata": {},
   "source": [
    "### ────────────────────────────────────────────────────────────────\n",
    "### <span style=\"color:blue; font-size:18px; font-weight:bold\">Feature Creation Function</span>\n",
    "###### <span style=\"color:red; font-size:16px\">**Points:** ___ / 2</span>\n",
    "###### <span style=\"color:green; font-size:16px\">**Comments:**</span>"
   ]
  },
  {
   "cell_type": "markdown",
   "id": "f936a816",
   "metadata": {},
   "source": [
    "### ────────────────────────────────────────────────────────────────\n",
    "### <span style=\"color:blue; font-size:18px; font-weight:bold\">Cross Validation Function</span>\n",
    "###### <span style=\"color:red; font-size:16px\">**Points:** ___ / 5</span>\n",
    "###### <span style=\"color:green; font-size:16px\">**Comments:**</span>"
   ]
  },
  {
   "cell_type": "markdown",
   "id": "4374514c",
   "metadata": {},
   "source": [
    "### ────────────────────────────────────────────────────────────────\n",
    "### <span style=\"color:blue; font-size:18px; font-weight:bold\">Training Function</span>\n",
    "###### <span style=\"color:red; font-size:16px\">**Points:** ___ / 2</span>\n",
    "###### <span style=\"color:green; font-size:16px\">**Comments:**</span>"
   ]
  },
  {
   "cell_type": "markdown",
   "id": "af0e5c3a",
   "metadata": {},
   "source": [
    "### ────────────────────────────────────────────────────────────────\n",
    "### <span style=\"color:blue; font-size:18px; font-weight:bold\">TSS Function</span>\n",
    "###### <span style=\"color:red; font-size:16px\">**Points:** ___ / 2</span>\n",
    "###### <span style=\"color:green; font-size:16px\">**Comments:**</span>"
   ]
  },
  {
   "cell_type": "markdown",
   "id": "7ddbaf4f",
   "metadata": {},
   "source": []
  },
  {
   "cell_type": "code",
   "execution_count": 23,
   "id": "b8e805cc",
   "metadata": {},
   "outputs": [],
   "source": [
    "# __init__() function should initialize all your variables\n",
    "# _____ 1 pt _____\n",
    "class my_svm():\n",
    "    def __init__(self,):\n",
    "        # CODE HERE !\n",
    "\n",
    "        ###########\n",
    "        pass\n",
    "#############################################################\n",
    "\n",
    "\n",
    "    # preprocess() function:\n",
    "    # _____ 1 pt _____\n",
    "    #  1) normalizes the data, \n",
    "    # _____ 1 pt _____\n",
    "    #  2) removes missing values\n",
    "    # _____ 1 pt _____\n",
    "    #  3) assign labels to target\n",
    "    def preprocess(self,):\n",
    "        # CODE HERE !\n",
    "\n",
    "        ###########\n",
    "        return 0\n",
    "#############################################################\n",
    "\n",
    "\n",
    "    # _____ 2 pt _____\n",
    "    # feature_creation() function takes as input the features set label (e.g. FS-I, FS-II, FS-III, FS-IV)\n",
    "    # and creates 2 D array of corresponding features \n",
    "    # for both positive and negative observations.\n",
    "    # this array will be input to the svm model\n",
    "    # For instance, if the input is FS-I, the output is a 2-d array with features corresponding to \n",
    "    # FS-I for both negative and positive class observations\n",
    "    def feature_creation(self, fs_value):\n",
    "        # CODE HERE !\n",
    "\n",
    "        ###########\n",
    "        return 0\n",
    "#############################################################\n",
    "\n",
    "\n",
    "    # cross_validation() function splits the data into train and test splits,\n",
    "    # _____ 1 pt _____\n",
    "    # Use k-fold with k=10\n",
    "    # _____ 1 pt _____\n",
    "    # the svm is trained on training set and tested on test set\n",
    "    # _____ 1 pt _____\n",
    "    # the output is the average accuracy across all train test splits.\n",
    "    # _____ 2 pt _____ (Integration of the two functions)\n",
    "    def cross_validation(self,):\n",
    "        # CODE HERE !\n",
    "\n",
    "        ###########\n",
    "        # call training function\n",
    "        # call tss function\n",
    "        return 0\n",
    "#############################################################\n",
    "\n",
    "\n",
    "    # _____ 2 pt _____\n",
    "    #training() function trains a SVM classification model on input features and corresponding target\n",
    "    def training(self, ):\n",
    "        # CODE HERE !\n",
    "\n",
    "        ###########\n",
    "        return 0\n",
    "#############################################################\n",
    "\n",
    "\n",
    "    # _____ 2 pt _____\n",
    "    # tss() function computes the accuracy of predicted outputs (i.e target prediction on test set)\n",
    "    # using the TSS measure given in the document\n",
    "    def tss(self,):\n",
    "        # CODE HERE !\n",
    "        \n",
    "        ###########\n",
    "        return 0\n"
   ]
  },
  {
   "cell_type": "markdown",
   "id": "f9ecaee8",
   "metadata": {},
   "source": [
    "### ────────────────────────────────────────────────────────────────\n",
    "### <span style=\"color:blue; font-size:18px; font-weight:bold\">Feature Experiment Function</span>\n",
    "###### <span style=\"color:red; font-size:16px\">**Points:** ___ / 4</span>\n",
    "###### <span style=\"color:green; font-size:16px\">**Comments:**</span>"
   ]
  },
  {
   "cell_type": "code",
   "execution_count": 24,
   "id": "d70876b3",
   "metadata": {},
   "outputs": [],
   "source": [
    "# _____ 1 pt _____ (Runs all feature set combinations)\n",
    "# _____ 1 pt _____ (Reports mean/std TSS)\n",
    "# _____ 1 pt _____ (Produces confusion matrices)\n",
    "# _____ 1 pt _____ (Generates bar chart of fold results)\n",
    "\n",
    "# feature_experiment() function executes experiments with all 4 feature sets.\n",
    "# svm is trained (and tested) on 2010 dataset with all 4 feature set combinations\n",
    "# the output of this function is : \n",
    "#  1) TSS average scores (mean std) for k-fold validation printed out on console.\n",
    "#  2) Confusion matrix for TP, FP, TN, FN. See assignment document \n",
    "#  3) A chart showing TSS scores for all folds of CV. \n",
    "#     This means that for each fold, compute the TSS score on test set for that fold, and plot it.\n",
    "#     The number of folds will decide the number of points on this chart (i.e 10)\n",
    "#\n",
    "# Above 3 charts are produced for all feature combinations\n",
    "#  4) The function prints the best performing feature set combination\n",
    "def feature_experiment():\n",
    "    # CODE HERE !\n",
    "    \n",
    "    ###########\n",
    "    return 0\n"
   ]
  },
  {
   "cell_type": "markdown",
   "id": "e31e45da",
   "metadata": {},
   "source": [
    "### ────────────────────────────────────────────────────────────────\n",
    "### <span style=\"color:blue; font-size:18px; font-weight:bold\">Data Experiment Function</span>\n",
    "###### <span style=\"color:red; font-size:16px\">**Points:** ___ / 4</span>\n",
    "###### <span style=\"color:green; font-size:16px\">**Comments:**</span>"
   ]
  },
  {
   "cell_type": "code",
   "execution_count": 25,
   "id": "f27aea4c",
   "metadata": {},
   "outputs": [],
   "source": [
    "# _____ 1 pt _____ (Runs on both datasets)\n",
    "# _____ 1 pt _____ (Uses best feature set)\n",
    "# _____ 1 pt _____ (Reports mean/std TSS)\n",
    "# _____ 1 pt _____ (Produces confusion matrices + fold charts)\n",
    "\n",
    "# data_experiment() function executes 2 experiments with 2 data sets.\n",
    "# svm is trained (and tested) on both 2010 data and 2020 data\n",
    "# the output of this function is : \n",
    "#  1) TSS average scores for k-fold validation printed out on console.\n",
    "#  2) Confusion matrix for TP, FP, TN, FN. See assignment document \n",
    "#  3) A chart showing TSS scores for all folds of CV. \n",
    "#     This means that for each fold, compute the TSS score on test set for that fold, and plot it.\n",
    "#     The number of folds will decide the number of points on this chart (i.e. 10)\n",
    "# above 3 charts are produced for both datasets\n",
    "# feature set for this experiment should be the \n",
    "# best performing feature set combination from feature_experiment()\n",
    "def data_experiment():\n",
    "    # CODE HERE !\n",
    "    \n",
    "    ###########\n",
    "    return 0\n"
   ]
  },
  {
   "cell_type": "markdown",
   "id": "28737103",
   "metadata": {},
   "source": [
    "### ────────────────────────────────────────────────────────────────\n",
    "### <span style=\"color:blue; font-size:18px; font-weight:bold\">Main Execution</span>\n",
    "###### <span style=\"color:red; font-size:16px\">**Points:** ___ / 2</span>\n",
    "###### <span style=\"color:green; font-size:16px\">**Comments:**</span>"
   ]
  },
  {
   "cell_type": "code",
   "execution_count": 26,
   "id": "3e941de9",
   "metadata": {},
   "outputs": [
    {
     "data": {
      "text/plain": [
       "0"
      ]
     },
     "execution_count": 26,
     "metadata": {},
     "output_type": "execute_result"
    }
   ],
   "source": [
    "# _____ 1 pt _____ (Clear printed output (best feature set, dataset comparison))\n",
    "# _____ 1 pt _____ (Visualizations labeled and interpretable)\n",
    "\n",
    "# below should be your code to call the above classes and functions\n",
    "# with various combinations of feature sets\n",
    "# and both datasets\n",
    "\n",
    "# CODE HERE !\n",
    "\n",
    "###########\n",
    "\n",
    "feature_experiment()\n",
    "data_experiment()"
   ]
  },
  {
   "cell_type": "markdown",
   "id": "01fb633b",
   "metadata": {},
   "source": [
    "<span style=\"color:blue; font-size:20px; font-weight:bold\">Final Total Score</span><br>\n",
    "<span style=\"color:red; font-size:18px\">**____ / 25**</span>\n",
    "</div>"
   ]
  }
 ],
 "metadata": {
  "kernelspec": {
   "display_name": "venv",
   "language": "python",
   "name": "python3"
  },
  "language_info": {
   "codemirror_mode": {
    "name": "ipython",
    "version": 3
   },
   "file_extension": ".py",
   "mimetype": "text/x-python",
   "name": "python",
   "nbconvert_exporter": "python",
   "pygments_lexer": "ipython3",
   "version": "3.13.5"
  }
 },
 "nbformat": 4,
 "nbformat_minor": 5
}
